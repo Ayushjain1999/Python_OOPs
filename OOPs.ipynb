{
 "cells": [
  {
   "cell_type": "markdown",
   "id": "214f45f6-3b90-447a-aa2a-b58d970fc9bb",
   "metadata": {},
   "source": [
    "Theory Questions "
   ]
  },
  {
   "cell_type": "code",
   "execution_count": null,
   "id": "91bf2e92-ece0-45fb-8bdb-d08c7f5f7b2b",
   "metadata": {},
   "outputs": [],
   "source": [
    "'''\n",
    "1. What is Object-Oriented Programming (OOP)?\n",
    "--> OOP is a programming paradigm based on the concept of \"objects,\" which contain data (attributes) and code (methods). It enables code reusability, modularity, and organization by modeling real-world entities\n",
    "\n",
    "2. What is a class in OOP?\n",
    "--> A class is a blueprint for creating objects. It defines attributes (variables) and behaviors (methods) that the created objects will have.\n",
    "\n",
    "3. What is an object in OOP?\n",
    "--> An object is an instance of a class. It has its own data and can use the methods defined by the class.\n",
    "\n",
    "4. Difference between Abstraction and Encapsulation\n",
    "--> a. Abstraction: Hides complex implementation and shows only the necessary features of an object.\n",
    "\n",
    "    b. Encapsulation: Keeps data and methods together in a single unit (class), protecting object data from outside interference via access specifiers.\n",
    "\n",
    "5. What are dunder methods in Python?\n",
    "--> Dunder methods (double underscore methods) are special methods in Python like __init__, __str__, and __add__ that have double underscores before and after their names. They're used to define how objects behave with built-ins or operators.\n",
    "\n",
    "6. Explain inheritance in OOP\n",
    "--> Inheritance allows one class (child or subclass) to inherit attributes and methods from another class (parent or superclass), enabling code reuse.\n",
    "\n",
    "7. What is polymorphism in OOP?\n",
    "--> Polymorphism is the ability of different objects to respond to the same method call in different ways, e.g., having a common speak() method behave differently in Dog and Cat classes.\n",
    "\n",
    "8. How is encapsulation achieved in Python?\n",
    "--> By defining private/protected attributes (prefix with a single _ or double __) and using getter/setter methods to access or modify them safely.\n",
    "\n",
    "9. What is a constructor in Python?\n",
    "--> The __init__ method is the constructor in Python, automatically called when a new object is created, to initialize its attributes.\n",
    "\n",
    "10. What are class and static methods in Python?\n",
    "--> a. Class method: Defined with @classmethod; receives the class as its first argument (cls) and can modify class state.\n",
    "\n",
    "    b. Static method: Defined with @staticmethod and does not receive the class or instance as a parameter; behaves like a regular function within a class.\n",
    "\n",
    "11. What is method overloading in Python?\n",
    "--> Formally, Python does not support method overloading by argument type or count. However, you can achieve similar functionality through default arguments or variable-length arguments.\n",
    "\n",
    "12. What is method overriding in OOP?\n",
    "--> When a subclass provides its own implementation of a method defined in its parent class.\n",
    "\n",
    "13. What is a property decorator in Python?\n",
    "--> The @property decorator allows you to define methods that can be accessed like attributes, useful for getting (and with @x.setter, setting) values.\n",
    "\n",
    "14. Why is polymorphism important in OOP?\n",
    "--> It allows for flexible and reusable code, enabling programs to use objects of different classes interchangeably if they share the same interface.\n",
    "\n",
    "15. What is an abstract class in Python?\n",
    "--> An abstract class defines methods that must be implemented by its subclasses. Declared using abc.ABC and @abstractmethod.\n",
    "\n",
    "16. Advantages of OOP\n",
    "--> a. Modularity\n",
    "\n",
    "    b. Code reusability\n",
    "\n",
    "    c. Flexibility and easy maintenance\n",
    "\n",
    "    d. Problem-solving through modeling real-world scenarios\n",
    "\n",
    "17. Difference between a class variable and an instance variable\n",
    "--> a. Class variables: Shared across all instances of the class.\n",
    "\n",
    "    b. Instance variables: Unique to each object/instance.\n",
    "\n",
    "18. What is multiple inheritance in Python?\n",
    "--> A class can inherit from more than one parent class, gaining attributes and methods from all. E.g., class C(A, B): ...\n",
    "\n",
    "19. Purpose of __str__ and __repr__ methods in Python\n",
    "--> a. __str__: Defines the human-readable string representation, used by print().\n",
    "\n",
    "    b. __repr__: Defines the “official” string representation, used in the interactive interpreter.\n",
    "\n",
    "20. Significance of super() in Python\n",
    "--> super() allows you to call methods from a parent or sibling class, commonly used to call the parent’s __init__ or overridden methods.\n",
    "\n",
    "21. Significance of __del__ method in Python\n",
    "--> It is the destructor method, called when an object is about to be destroyed, used for cleanup actions.\n",
    "\n",
    "22. Difference between @staticmethod and @classmethod\n",
    "--> a. @staticmethod: No access to class or instance (self or cls).\n",
    "\n",
    "    b. @classmethod: Receives the class (cls) as its first argument and can access or modify class state.\n",
    "\n",
    "23. How does polymorphism work in Python with inheritance?\n",
    "--> Derived classes can override base class methods, so the same method call behaves differently depending on the object’s class.\n",
    "\n",
    "24. What is method chaining in Python OOP?\n",
    "--> Returning self from object methods so multiple methods can be called in a single statement: obj.method1().method2()\n",
    "\n",
    "25. Purpose of the __call__ method in Python\n",
    "--> If defined, allows an instance of the class to be called as a function (e.g., obj()). Useful for function-like objects.\n",
    "\n",
    "'''"
   ]
  },
  {
   "cell_type": "markdown",
   "id": "a82a8dd4-a050-4f29-8308-51b6a07389e9",
   "metadata": {},
   "source": [
    "Practical Questions"
   ]
  },
  {
   "cell_type": "code",
   "execution_count": 1,
   "id": "0d449269-1f05-40aa-bf64-ac9925457e13",
   "metadata": {},
   "outputs": [
    {
     "name": "stdout",
     "output_type": "stream",
     "text": [
      "Bark!\n"
     ]
    }
   ],
   "source": [
    "#1. Create a parent class Animal with a method speak() that prints a generic message. Create a child class Dog that overrides the speak() method to print \"Bark!\".\n",
    "\n",
    "class Animal:\n",
    "    def speak(self):\n",
    "        print(\"Animal speaks\")\n",
    "\n",
    "class Dog(Animal):\n",
    "    def speak(self):\n",
    "        print(\"Bark!\")\n",
    "\n",
    "d = Dog()\n",
    "d.speak()"
   ]
  },
  {
   "cell_type": "code",
   "execution_count": 2,
   "id": "8d0f7380-30a1-4aae-8369-bc16ece76d35",
   "metadata": {},
   "outputs": [
    {
     "name": "stdout",
     "output_type": "stream",
     "text": [
      "Area of Circle: 78.54\n",
      "Area of Rectangle: 24\n"
     ]
    }
   ],
   "source": [
    "#2. Write a program to create an abstract class Shape with a method area(). Derive classes Circle and Rectangle from it and implement the area() method in both.\n",
    "\n",
    "from abc import ABC, abstractmethod\n",
    "import math\n",
    "\n",
    "# Abstract base class\n",
    "class Shape(ABC):\n",
    "    @abstractmethod\n",
    "    def area(self):\n",
    "        pass\n",
    "\n",
    "# Circle class derived from Shape\n",
    "class Circle(Shape):\n",
    "    def __init__(self, radius):\n",
    "        self.radius = radius\n",
    "\n",
    "    def area(self):\n",
    "        return math.pi * self.radius ** 2\n",
    "\n",
    "# Rectangle class derived from Shape\n",
    "class Rectangle(Shape):\n",
    "    def __init__(self, width, height):\n",
    "        self.width = width\n",
    "        self.height = height\n",
    "\n",
    "    def area(self):\n",
    "        return self.width * self.height\n",
    "\n",
    "# Example usage\n",
    "circle = Circle(5)\n",
    "rectangle = Rectangle(4, 6)\n",
    "\n",
    "print(f\"Area of Circle: {circle.area():.2f}\")\n",
    "print(f\"Area of Rectangle: {rectangle.area()}\")"
   ]
  },
  {
   "cell_type": "code",
   "execution_count": 3,
   "id": "46efdc9c-f540-483e-a885-a0a123d52c27",
   "metadata": {},
   "outputs": [
    {
     "name": "stdout",
     "output_type": "stream",
     "text": [
      "Vehicle Type: Four Wheeler\n",
      "Car Brand: Tesla\n",
      "Battery Capacity: 75 kWh\n"
     ]
    }
   ],
   "source": [
    "#3. Implement a multi-level inheritance scenario where a class Vehicle has an attribute type. Derive a class Car and further derive a class ElectricCar that adds a battery attribute.\n",
    "\n",
    "# Base class\n",
    "class Vehicle:\n",
    "    def __init__(self, vehicle_type):\n",
    "        self.vehicle_type = vehicle_type\n",
    "\n",
    "    def display_type(self):\n",
    "        print(f\"Vehicle Type: {self.vehicle_type}\")\n",
    "\n",
    "# Derived class from Vehicle\n",
    "class Car(Vehicle):\n",
    "    def __init__(self, vehicle_type, brand):\n",
    "        super().__init__(vehicle_type)\n",
    "        self.brand = brand\n",
    "\n",
    "    def display_brand(self):\n",
    "        print(f\"Car Brand: {self.brand}\")\n",
    "\n",
    "# Further derived class from Car\n",
    "class ElectricCar(Car):\n",
    "    def __init__(self, vehicle_type, brand, battery_capacity):\n",
    "        super().__init__(vehicle_type, brand)\n",
    "        self.battery_capacity = battery_capacity\n",
    "\n",
    "    def display_battery(self):\n",
    "        print(f\"Battery Capacity: {self.battery_capacity} kWh\")\n",
    "\n",
    "# Example usage\n",
    "e_car = ElectricCar(\"Four Wheeler\", \"Tesla\", 75)\n",
    "\n",
    "e_car.display_type()\n",
    "e_car.display_brand()\n",
    "e_car.display_battery()\n"
   ]
  },
  {
   "cell_type": "code",
   "execution_count": 4,
   "id": "8c56896e-55e1-4d8a-a438-902c6d10ea8b",
   "metadata": {},
   "outputs": [
    {
     "name": "stdout",
     "output_type": "stream",
     "text": [
      "Sparrow flies high in the sky.\n",
      "Penguins can't fly, but they swim well.\n"
     ]
    }
   ],
   "source": [
    "#4. Demonstrate polymorphism by creating a base class Bird with a method fly(). Create two derived classes Sparrow and Penguin that override the fly() method.\n",
    "\n",
    "# Base class\n",
    "class Bird:\n",
    "    def fly(self):\n",
    "        print(\"This bird can fly.\")\n",
    "\n",
    "# Derived class Sparrow overrides fly()\n",
    "class Sparrow(Bird):\n",
    "    def fly(self):\n",
    "        print(\"Sparrow flies high in the sky.\")\n",
    "\n",
    "# Derived class Penguin overrides fly()\n",
    "class Penguin(Bird):\n",
    "    def fly(self):\n",
    "        print(\"Penguins can't fly, but they swim well.\")\n",
    "\n",
    "# Function to demonstrate polymorphism\n",
    "def show_flying_ability(bird):\n",
    "    bird.fly()\n",
    "\n",
    "# Example usage\n",
    "bird1 = Sparrow()\n",
    "bird2 = Penguin()\n",
    "\n",
    "show_flying_ability(bird1)\n",
    "show_flying_ability(bird2) "
   ]
  },
  {
   "cell_type": "code",
   "execution_count": 5,
   "id": "bfa0a223-56dc-4521-abfe-706d88ae05ff",
   "metadata": {},
   "outputs": [
    {
     "name": "stdout",
     "output_type": "stream",
     "text": [
      "Current Balance: ₹1000\n",
      "Deposited: ₹500\n",
      "Withdrawn: ₹300\n",
      "Current Balance: ₹1200\n"
     ]
    }
   ],
   "source": [
    "#5. Write a program to demonstrate encapsulation by creating a class BankAccount with private attributes balance and methods to deposit, withdraw, and check balance.\n",
    "\n",
    "class BankAccount:\n",
    "    def __init__(self, initial_balance=0):\n",
    "        self.__balance = initial_balance  # private attribute\n",
    "\n",
    "    # Method to deposit money\n",
    "    def deposit(self, amount):\n",
    "        if amount > 0:\n",
    "            self.__balance += amount\n",
    "            print(f\"Deposited: ₹{amount}\")\n",
    "        else:\n",
    "            print(\"Deposit amount must be positive.\")\n",
    "\n",
    "    # Method to withdraw money\n",
    "    def withdraw(self, amount):\n",
    "        if 0 < amount <= self.__balance:\n",
    "            self.__balance -= amount\n",
    "            print(f\"Withdrawn: ₹{amount}\")\n",
    "        else:\n",
    "            print(\"Insufficient balance or invalid amount.\")\n",
    "\n",
    "    # Method to check balance\n",
    "    def check_balance(self):\n",
    "        print(f\"Current Balance: ₹{self.__balance}\")\n",
    "\n",
    "# Example usage\n",
    "account = BankAccount(1000)\n",
    "\n",
    "account.check_balance()\n",
    "account.deposit(500)\n",
    "account.withdraw(300)\n",
    "account.check_balance()"
   ]
  },
  {
   "cell_type": "code",
   "execution_count": 6,
   "id": "6e71337c-a672-4f4d-82dc-00acde2daa74",
   "metadata": {},
   "outputs": [
    {
     "name": "stdout",
     "output_type": "stream",
     "text": [
      "Strumming the guitar.\n",
      "Playing the piano keys.\n"
     ]
    }
   ],
   "source": [
    "#6. Demonstrate runtime polymorphism using a method play() in a base class Instrument. Derive classes Guitar and Piano that implement their own version of play().\n",
    "\n",
    "# Base class\n",
    "class Instrument:\n",
    "    def play(self):\n",
    "        print(\"Playing an instrument.\")\n",
    "\n",
    "# Derived class\n",
    "class Guitar(Instrument):\n",
    "    def play(self):\n",
    "        print(\"Strumming the guitar.\")\n",
    "\n",
    "# Derived class\n",
    "class Piano(Instrument):\n",
    "    def play(self):\n",
    "        print(\"Playing the piano keys.\")\n",
    "\n",
    "# Function to demonstrate runtime polymorphism\n",
    "def start_playing(instrument):\n",
    "    instrument.play()  \n",
    "\n",
    "# Example usage\n",
    "guitar = Guitar()\n",
    "piano = Piano()\n",
    "\n",
    "start_playing(guitar)\n",
    "start_playing(piano) "
   ]
  },
  {
   "cell_type": "code",
   "execution_count": 7,
   "id": "ba49ac88-8f53-4dd9-8cc3-4b997e9e4b02",
   "metadata": {},
   "outputs": [
    {
     "name": "stdout",
     "output_type": "stream",
     "text": [
      "Addition Result: 15\n",
      "Subtraction Result: 5\n"
     ]
    }
   ],
   "source": [
    "#7. Create a class MathOperations with a class method add_numbers() to add two numbers and a static method subtract_numbers() to subtract two numbers.\n",
    "\n",
    "class MathOperations:\n",
    "    \n",
    "    # Class method to add two numbers\n",
    "    @classmethod\n",
    "    def add_numbers(cls, a, b):\n",
    "        return a + b\n",
    "\n",
    "    # Static method to subtract two numbers\n",
    "    @staticmethod\n",
    "    def subtract_numbers(a, b):\n",
    "        return a - b\n",
    "\n",
    "# Example usage\n",
    "sum_result = MathOperations.add_numbers(10, 5)\n",
    "difference_result = MathOperations.subtract_numbers(10, 5)\n",
    "\n",
    "print(f\"Addition Result: {sum_result}\")\n",
    "print(f\"Subtraction Result: {difference_result}\")\n",
    "\n"
   ]
  },
  {
   "cell_type": "code",
   "execution_count": 8,
   "id": "33acd434-b73d-4462-a0ca-2af05f2f91bf",
   "metadata": {},
   "outputs": [
    {
     "name": "stdout",
     "output_type": "stream",
     "text": [
      "Total Persons Created: 3\n"
     ]
    }
   ],
   "source": [
    "#8. Implement a class Person with a class method to count the total number of persons created.\n",
    "\n",
    "class Person:\n",
    "    count = 0  # Class variable to store total number of persons\n",
    "\n",
    "    def __init__(self, name):\n",
    "        self.name = name\n",
    "        Person.count += 1  # Increment count every time a new object is created\n",
    "\n",
    "    @classmethod\n",
    "    def total_persons(cls):\n",
    "        return cls.count\n",
    "\n",
    "# Example usage\n",
    "p1 = Person(\"Alice\")\n",
    "p2 = Person(\"Bob\")\n",
    "p3 = Person(\"Charlie\")\n",
    "\n",
    "print(f\"Total Persons Created: {Person.total_persons()}\")"
   ]
  },
  {
   "cell_type": "code",
   "execution_count": 9,
   "id": "73ae9814-4bb5-4bf8-a0c3-734a550b2a01",
   "metadata": {},
   "outputs": [
    {
     "name": "stdout",
     "output_type": "stream",
     "text": [
      "Fraction 1: 3/4\n",
      "Fraction 2: 5/8\n"
     ]
    }
   ],
   "source": [
    "#9. Write a class Fraction with attributes numerator and denominator. Override the str method to display the fraction as \"numerator/denominator\".\n",
    "\n",
    "class Fraction:\n",
    "    def __init__(self, numerator, denominator):\n",
    "        self.numerator = numerator\n",
    "        self.denominator = denominator\n",
    "\n",
    "    def __str__(self):\n",
    "        return f\"{self.numerator}/{self.denominator}\"\n",
    "\n",
    "# Example usage\n",
    "f1 = Fraction(3, 4)\n",
    "f2 = Fraction(5, 8)\n",
    "\n",
    "print(f\"Fraction 1: {f1}\") \n",
    "print(f\"Fraction 2: {f2}\") \n"
   ]
  },
  {
   "cell_type": "code",
   "execution_count": 10,
   "id": "4532c4a0-4ec3-4538-9a8a-6ea4614753fc",
   "metadata": {},
   "outputs": [
    {
     "name": "stdout",
     "output_type": "stream",
     "text": [
      "Vector 1: (2, 3)\n",
      "Vector 2: (4, 5)\n",
      "Vector 1 + Vector 2 = (6, 8)\n"
     ]
    }
   ],
   "source": [
    "#10. Demonstrate operator overloading by creating a class Vector and overriding the add method to add two vectors.\n",
    "\n",
    "class Vector:\n",
    "    def __init__(self, x, y):\n",
    "        self.x = x\n",
    "        self.y = y\n",
    "\n",
    "    # Overloading the + operator\n",
    "    def __add__(self, other):\n",
    "        return Vector(self.x + other.x, self.y + other.y)\n",
    "\n",
    "    # For readable output\n",
    "    def __str__(self):\n",
    "        return f\"({self.x}, {self.y})\"\n",
    "\n",
    "# Example usage\n",
    "v1 = Vector(2, 3)\n",
    "v2 = Vector(4, 5)\n",
    "\n",
    "v3 = v1 + v2  # Uses __add__ method\n",
    "\n",
    "print(f\"Vector 1: {v1}\")\n",
    "print(f\"Vector 2: {v2}\")\n",
    "print(f\"Vector 1 + Vector 2 = {v3}\")\n"
   ]
  },
  {
   "cell_type": "code",
   "execution_count": 11,
   "id": "58ac47f5-f243-4b28-85f1-c1bc706e8fa5",
   "metadata": {},
   "outputs": [
    {
     "name": "stdout",
     "output_type": "stream",
     "text": [
      "Hello, my name is Ayush and I am 25 years old.\n"
     ]
    }
   ],
   "source": [
    "#11. Create a class Person with attributes name and age. Add a method greet() that prints \"Hello, my name is {name} and I am {age} years old.\"\n",
    "\n",
    "class Person:\n",
    "    def __init__(self, name, age):\n",
    "        self.name = name\n",
    "        self.age = age\n",
    "\n",
    "    def greet(self):\n",
    "        print(f\"Hello, my name is {self.name} and I am {self.age} years old.\")\n",
    "\n",
    "# Example usage\n",
    "p1 = Person(\"Ayush\", 25)\n",
    "p1.greet()"
   ]
  },
  {
   "cell_type": "code",
   "execution_count": 12,
   "id": "5a3cfce6-2750-4e36-841c-e3e7fe4da73b",
   "metadata": {},
   "outputs": [
    {
     "name": "stdout",
     "output_type": "stream",
     "text": [
      "Ayush's average grade: 86.25\n"
     ]
    }
   ],
   "source": [
    "#12. Implement a class Student with attributes name and grades. Create a method average_grade() to compute the average of the grades.\n",
    "\n",
    "class Student:\n",
    "    def __init__(self, name, grades):\n",
    "        self.name = name\n",
    "        self.grades = grades  # Expecting a list of numbers\n",
    "\n",
    "    def average_grade(self):\n",
    "        if not self.grades:\n",
    "            return 0  # Handle empty grade list\n",
    "        return sum(self.grades) / len(self.grades)\n",
    "\n",
    "# Example usage\n",
    "student1 = Student(\"Ayush\", [85, 90, 78, 92])\n",
    "print(f\"{student1.name}'s average grade: {student1.average_grade():.2f}\")\n"
   ]
  },
  {
   "cell_type": "code",
   "execution_count": 13,
   "id": "bb78e2c9-dd72-407a-b497-57d24b1d85dc",
   "metadata": {},
   "outputs": [
    {
     "name": "stdout",
     "output_type": "stream",
     "text": [
      "Area of Rectangle: 50\n"
     ]
    }
   ],
   "source": [
    "#13. Create a class Rectangle with methods set_dimensions() to set the dimensions and area() to calculate the area.\n",
    "\n",
    "class Rectangle:\n",
    "    def __init__(self):\n",
    "        self.width = 0\n",
    "        self.height = 0\n",
    "\n",
    "    def set_dimensions(self, width, height):\n",
    "        self.width = width\n",
    "        self.height = height\n",
    "\n",
    "    def area(self):\n",
    "        return self.width * self.height\n",
    "\n",
    "# Example usage\n",
    "rect = Rectangle()\n",
    "rect.set_dimensions(5, 10)\n",
    "print(f\"Area of Rectangle: {rect.area()}\")"
   ]
  },
  {
   "cell_type": "code",
   "execution_count": 14,
   "id": "5ddcfdc2-23a6-483e-a8b8-1e7b851bf631",
   "metadata": {},
   "outputs": [
    {
     "name": "stdout",
     "output_type": "stream",
     "text": [
      "Shailesh's Salary: ₹600\n",
      "Neha's Salary (with bonus): ₹1300\n"
     ]
    }
   ],
   "source": [
    "#14. Create a class Employee with a method calculate_salary() that computes the salary based on hours worked and hourly rate. Create a derived class Manager that adds a bonus to the salary.\n",
    "\n",
    "class Employee:\n",
    "    def __init__(self, name, hours_worked, hourly_rate):\n",
    "        self.name = name\n",
    "        self.hours_worked = hours_worked\n",
    "        self.hourly_rate = hourly_rate\n",
    "\n",
    "    def calculate_salary(self):\n",
    "        return self.hours_worked * self.hourly_rate\n",
    "\n",
    "class Manager(Employee):\n",
    "    def __init__(self, name, hours_worked, hourly_rate, bonus):\n",
    "        super().__init__(name, hours_worked, hourly_rate)\n",
    "        self.bonus = bonus\n",
    "\n",
    "    def calculate_salary(self):\n",
    "        base_salary = super().calculate_salary()\n",
    "        return base_salary + self.bonus\n",
    "\n",
    "# Example usage\n",
    "emp = Employee(\"Shailesh\", 40, 15)\n",
    "mgr = Manager(\"Neha\", 40, 20, 500)\n",
    "\n",
    "print(f\"{emp.name}'s Salary: ₹{emp.calculate_salary()}\")\n",
    "print(f\"{mgr.name}'s Salary (with bonus): ₹{mgr.calculate_salary()}\")"
   ]
  },
  {
   "cell_type": "code",
   "execution_count": 15,
   "id": "3f3233c5-ffe8-43ed-a5f1-12ceb052448a",
   "metadata": {},
   "outputs": [
    {
     "name": "stdout",
     "output_type": "stream",
     "text": [
      "Total price of Laptop: ₹225000\n"
     ]
    }
   ],
   "source": [
    "#15. Create a class Product with attributes name, price, and quantity. Implement a method total_price() that calculates the total price of the product.\n",
    "\n",
    "class Product:\n",
    "    def __init__(self, name, price, quantity):\n",
    "        self.name = name\n",
    "        self.price = price\n",
    "        self.quantity = quantity\n",
    "\n",
    "    def total_price(self):\n",
    "        return self.price * self.quantity\n",
    "\n",
    "# Example usage\n",
    "product = Product(\"Laptop\", 75000, 3)\n",
    "print(f\"Total price of {product.name}: ₹{product.total_price()}\")"
   ]
  },
  {
   "cell_type": "code",
   "execution_count": 16,
   "id": "6b14f280-591d-4273-9e43-132c0f85835a",
   "metadata": {},
   "outputs": [
    {
     "name": "stdout",
     "output_type": "stream",
     "text": [
      "Cow says: Moo\n",
      "Sheep says: Baa\n"
     ]
    }
   ],
   "source": [
    "#16. Create a class Animal with an abstract method sound(). Create two derived classes Cow and Sheep that implement the sound() method.\n",
    "\n",
    "from abc import ABC, abstractmethod\n",
    "\n",
    "# Abstract base class\n",
    "class Animal(ABC):\n",
    "    @abstractmethod\n",
    "    def sound(self):\n",
    "        pass\n",
    "\n",
    "# Derived class Cow\n",
    "class Cow(Animal):\n",
    "    def sound(self):\n",
    "        return \"Moo\"\n",
    "\n",
    "# Derived class Sheep\n",
    "class Sheep(Animal):\n",
    "    def sound(self):\n",
    "        return \"Baa\"\n",
    "\n",
    "# Example usage\n",
    "cow = Cow()\n",
    "sheep = Sheep()\n",
    "\n",
    "print(f\"Cow says: {cow.sound()}\")\n",
    "print(f\"Sheep says: {sheep.sound()}\")\n"
   ]
  },
  {
   "cell_type": "code",
   "execution_count": 17,
   "id": "ca1f2975-e15e-4e18-ba3e-5b770638134b",
   "metadata": {},
   "outputs": [
    {
     "name": "stdout",
     "output_type": "stream",
     "text": [
      "'To Kill a Mockingbird' by Harper Lee, published in 1960\n"
     ]
    }
   ],
   "source": [
    "#17. Create a class Book with attributes title, author, and year_published. Add a method get_book_info() that returns a formatted string with the book's details.\n",
    "\n",
    "class Book:\n",
    "    def __init__(self, title, author, year_published):\n",
    "        self.title = title\n",
    "        self.author = author\n",
    "        self.year_published = year_published\n",
    "\n",
    "    def get_book_info(self):\n",
    "        return f\"'{self.title}' by {self.author}, published in {self.year_published}\"\n",
    "\n",
    "# Example usage\n",
    "book = Book(\"To Kill a Mockingbird\", \"Harper Lee\", 1960)\n",
    "print(book.get_book_info())"
   ]
  },
  {
   "cell_type": "code",
   "execution_count": 18,
   "id": "5ccc0922-abe9-46ff-a65c-8cfecf53305f",
   "metadata": {},
   "outputs": [
    {
     "name": "stdout",
     "output_type": "stream",
     "text": [
      "House Info:\n",
      "Address: 123 Kalka Ji E block\n",
      "Price: ₹5000000\n",
      "\n",
      "Mansion Info:\n",
      "Address: DLF phase 3\n",
      "Price: ₹25000000\n",
      "Number of rooms: 12\n"
     ]
    }
   ],
   "source": [
    "#18. Create a class House with attributes address and price. Create a derived class Mansion that adds an attribute number_of_rooms.\n",
    "\n",
    "class House:\n",
    "    def __init__(self, address, price):\n",
    "        self.address = address\n",
    "        self.price = price\n",
    "\n",
    "    def display_info(self):\n",
    "        print(f\"Address: {self.address}\")\n",
    "        print(f\"Price: ₹{self.price}\")\n",
    "\n",
    "class Mansion(House):\n",
    "    def __init__(self, address, price, number_of_rooms):\n",
    "        super().__init__(address, price)\n",
    "        self.number_of_rooms = number_of_rooms\n",
    "\n",
    "    def display_info(self):\n",
    "        super().display_info()\n",
    "        print(f\"Number of rooms: {self.number_of_rooms}\")\n",
    "\n",
    "# Example usage\n",
    "house = House(\"123 Kalka Ji E block\", 5000000)\n",
    "mansion = Mansion(\"DLF phase 3\", 25000000, 12)\n",
    "\n",
    "print(\"House Info:\")\n",
    "house.display_info()\n",
    "print(\"\\nMansion Info:\")\n",
    "mansion.display_info()"
   ]
  }
 ],
 "metadata": {
  "kernelspec": {
   "display_name": "Python 3 (ipykernel)",
   "language": "python",
   "name": "python3"
  },
  "language_info": {
   "codemirror_mode": {
    "name": "ipython",
    "version": 3
   },
   "file_extension": ".py",
   "mimetype": "text/x-python",
   "name": "python",
   "nbconvert_exporter": "python",
   "pygments_lexer": "ipython3",
   "version": "3.11.7"
  }
 },
 "nbformat": 4,
 "nbformat_minor": 5
}
